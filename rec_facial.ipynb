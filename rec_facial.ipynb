{
 "cells": [
  {
   "cell_type": "code",
   "execution_count": 253,
   "metadata": {},
   "outputs": [],
   "source": [
    "import cv2\n",
    "import face_recognition as fr"
   ]
  },
  {
   "cell_type": "code",
   "execution_count": 254,
   "metadata": {},
   "outputs": [],
   "source": [
    "class facerec:\n",
    "    def __init__(self):\n",
    "        self.database = dict()\n",
    "\n",
    "    def show(self, img_path, clr=True, dim=500):\n",
    "        img = fr.load_image_file(img_path)\n",
    "        height, width, _ = img.shape\n",
    "        ratio = dim / width\n",
    "        new_height = int(height * ratio)\n",
    "        img = cv2.resize(img, (dim, new_height))\n",
    "\n",
    "        img = cv2.cvtColor(img, cv2.COLOR_BGR2RGB)\n",
    "\n",
    "        if clr:\n",
    "            face_locations = fr.face_locations(img)\n",
    "            face_encodings = fr.face_encodings(img)\n",
    "            labels = ['???' for _ in face_encodings]\n",
    "\n",
    "            db_encodings = list(self.database.values())\n",
    "\n",
    "            for i, img_enc in enumerate(face_encodings):\n",
    "                matches = fr.compare_faces(db_encodings, img_enc)\n",
    "                for j, match in enumerate(matches):\n",
    "                    if match:\n",
    "                        labels[i] = list(self.database.keys())[j]\n",
    "                        break  # Interrompe após encontrar a correspondência\n",
    "\n",
    "            for (top, right, bottom, left), label in zip(face_locations, labels):\n",
    "                cv2.rectangle(img, (left, top), (right, bottom), (0, 255, 0), 2)\n",
    "                text_width, text_height = cv2.getTextSize(label, cv2.FONT_HERSHEY_DUPLEX, 0.6, 1)[0]\n",
    "                text_x = left + (right - left) // 2 - text_width // 2\n",
    "                text_y = bottom + text_height + 5\n",
    "                cv2.putText(img, label, (text_x, text_y), cv2.FONT_HERSHEY_DUPLEX, 0.6, (255, 255, 255), 1)\n",
    "\n",
    "        cv2.imshow('Image', img)\n",
    "        cv2.waitKey(0)\n",
    "        cv2.destroyAllWindows()\n",
    "\n",
    "\n",
    "    def insert(self, img_path, labels):\n",
    "        img = fr.load_image_file(img_path)\n",
    "        img = cv2.cvtColor(img, cv2.COLOR_BGR2RGB)\n",
    "        encode = fr.face_encodings(img)\n",
    "\n",
    "        for label, enc in zip(labels, encode):\n",
    "            self.database[label] = enc"
   ]
  },
  {
   "cell_type": "code",
   "execution_count": 255,
   "metadata": {},
   "outputs": [],
   "source": [
    "fc = facerec()"
   ]
  },
  {
   "cell_type": "code",
   "execution_count": 256,
   "metadata": {},
   "outputs": [],
   "source": [
    "fc.insert('claire.webp', ['Claire Boucher'])\n",
    "fc.insert('elon.jpg', ['Elon Musk'])"
   ]
  },
  {
   "cell_type": "code",
   "execution_count": 257,
   "metadata": {},
   "outputs": [
    {
     "data": {
      "text/plain": [
       "dict_keys(['Claire Boucher', 'Elon Musk'])"
      ]
     },
     "execution_count": 257,
     "metadata": {},
     "output_type": "execute_result"
    }
   ],
   "source": [
    "fc.database.keys()"
   ]
  },
  {
   "cell_type": "code",
   "execution_count": 258,
   "metadata": {},
   "outputs": [],
   "source": [
    "fc.show('test3.jpg', dim=800)"
   ]
  }
 ],
 "metadata": {
  "kernelspec": {
   "display_name": "vcomp",
   "language": "python",
   "name": "python3"
  },
  "language_info": {
   "codemirror_mode": {
    "name": "ipython",
    "version": 3
   },
   "file_extension": ".py",
   "mimetype": "text/x-python",
   "name": "python",
   "nbconvert_exporter": "python",
   "pygments_lexer": "ipython3",
   "version": "3.8.10"
  }
 },
 "nbformat": 4,
 "nbformat_minor": 2
}
