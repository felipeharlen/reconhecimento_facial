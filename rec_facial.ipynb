{
 "cells": [
  {
   "cell_type": "code",
   "execution_count": 1,
   "metadata": {},
   "outputs": [],
   "source": [
    "import cv2\n",
    "import face_recognition as fr"
   ]
  },
  {
   "cell_type": "markdown",
   "metadata": {},
   "source": [
    "# Funcionalidade: Reconhecimento Facial\n",
    "\n",
    "Este código Python implementa uma classe `facerec` que oferece funcionalidades de reconhecimento facial. As principais características são:\n",
    "\n",
    "- **Método `show`**: Utilizado para exibir uma imagem com caixas delimitadoras ao redor dos rostos identificados. \n",
    "- **Método `insert`**: Usado para adicionar imagens e rótulos correspondentes a um banco de dados interno.\n",
    "\n",
    "### Uso Recomendado:\n",
    "\n",
    "1. Chame o método `insert` para adicionar imagens ao banco de dados.\n",
    "2. Utilize o método `show` para exibir uma imagem com reconhecimento facial.\n",
    "\n",
    "*Nota*: Certifique-se de ter as bibliotecas `cv2` e `face_recognition` instaladas para executar este código corretamente."
   ]
  },
  {
   "cell_type": "code",
   "execution_count": 2,
   "metadata": {},
   "outputs": [],
   "source": [
    "class facerec:\n",
    "    def __init__(self):\n",
    "        self.database = dict()\n",
    "\n",
    "    def classifier(self, img):\n",
    "        face_encodings = fr.face_encodings(img)\n",
    "        labels = ['???' for _ in face_encodings]\n",
    "\n",
    "        db_encodings = list(self.database.values())\n",
    "\n",
    "        for i, img_enc in enumerate(face_encodings):\n",
    "            matches = fr.compare_faces(db_encodings, img_enc)\n",
    "            for j, match in enumerate(matches):\n",
    "                if match:\n",
    "                    labels[i] = list(self.database.keys())[j]\n",
    "                    break  # Interrompe após encontrar a correspondência\n",
    "        \n",
    "        return labels\n",
    "\n",
    "    def show(self, img_path, clr=True, dim=500):\n",
    "        img = fr.load_image_file(img_path)\n",
    "        height, width, _ = img.shape\n",
    "        ratio = dim / width\n",
    "        new_height = int(height * ratio)\n",
    "        img = cv2.resize(img, (dim, new_height))\n",
    "\n",
    "        img = cv2.cvtColor(img, cv2.COLOR_BGR2RGB)\n",
    "\n",
    "        if clr:\n",
    "            face_locations = fr.face_locations(img)\n",
    "            labels = self.classifier(img)\n",
    "\n",
    "            for (top, right, bottom, left), label in zip(face_locations, labels):\n",
    "                cv2.rectangle(img, (left, top), (right, bottom), (0, 255, 0), 2)\n",
    "                text_width, text_height = cv2.getTextSize(label, cv2.FONT_HERSHEY_DUPLEX, 0.6, 1)[0]\n",
    "                text_x = left + (right - left) // 2 - text_width // 2\n",
    "                text_y = bottom + text_height + 5\n",
    "                cv2.putText(img, label, (text_x, text_y), cv2.FONT_HERSHEY_DUPLEX, 0.6, (255, 255, 255), 1)\n",
    "\n",
    "        cv2.imshow('Image', img)\n",
    "        cv2.waitKey(0)\n",
    "        cv2.destroyAllWindows()\n",
    "\n",
    "\n",
    "    def insert(self, img_path, labels):\n",
    "        img = fr.load_image_file(img_path)\n",
    "        img = cv2.cvtColor(img, cv2.COLOR_BGR2RGB)\n",
    "        encode = fr.face_encodings(img)\n",
    "\n",
    "        for label, enc in zip(labels, encode):\n",
    "            self.database[label] = enc"
   ]
  },
  {
   "cell_type": "code",
   "execution_count": 3,
   "metadata": {},
   "outputs": [],
   "source": [
    "fc = facerec()"
   ]
  },
  {
   "cell_type": "markdown",
   "metadata": {},
   "source": [
    "# Inserção de Rostos no Banco de Dados\n",
    "\n",
    "Esta seção do código permite a inserção de novos rostos no banco de dados para posterior reconhecimento.\n",
    "\n",
    "Para adicionar novos rostos:\n",
    "- Utilize o método `insert` da classe `facerec`.\n",
    "- Chame `fc.insert('caminho_da_imagem', ['Rótulo'])`, onde:\n",
    "  - `'caminho_da_imagem'` é o caminho para a imagem do rosto a ser inserido.\n",
    "  - `['Rótulo']` é uma lista contendo o rótulo associado ao rosto.\n",
    "\n",
    "Exemplo:\n",
    "- `fc.insert('nova_imagem.jpg', ['Nome'])`: Insere uma nova imagem no banco de dados associada ao rótulo 'Nome'.\n",
    "\n",
    "Isso permite expandir o banco de dados para reconhecer novos rostos ao processar imagens.\n"
   ]
  },
  {
   "cell_type": "code",
   "execution_count": 4,
   "metadata": {},
   "outputs": [],
   "source": [
    "fc.insert('claire.webp', ['Claire Boucher'])\n",
    "fc.insert('elon.jpg', ['Elon Musk'])"
   ]
  },
  {
   "cell_type": "code",
   "execution_count": 5,
   "metadata": {},
   "outputs": [
    {
     "data": {
      "text/plain": [
       "dict_keys(['Claire Boucher', 'Elon Musk'])"
      ]
     },
     "execution_count": 5,
     "metadata": {},
     "output_type": "execute_result"
    }
   ],
   "source": [
    "fc.database.keys()"
   ]
  },
  {
   "cell_type": "markdown",
   "metadata": {},
   "source": [
    "# Executando o Reconhecimento Facial em uma Imagem\n",
    "\n",
    "Nesta seção, ao utilizar o método `show` da classe `facerec`, a imagem 'test3.jpg' é processada para reconhecimento facial.\n",
    "\n",
    "Se um rosto reconhecido estiver presente no banco de dados, serão exibidas caixas delimitadoras ao redor desses rostos. Caso contrário, se um rosto na imagem não estiver cadastrado, será indicado por um marcador de ponto de interrogação."
   ]
  },
  {
   "cell_type": "code",
   "execution_count": 6,
   "metadata": {},
   "outputs": [],
   "source": [
    "fc.show('test3.jpg', dim=800)"
   ]
  },
  {
   "cell_type": "markdown",
   "metadata": {},
   "source": [
    "# Informações Adicionais\n",
    "\n",
    "- **Expansão do Banco de Dados**: Para ampliar o reconhecimento, adicione mais rostos utilizando o método `insert` com novas imagens e rótulos.\n",
    "\n",
    "- **Customização**: Explore a personalização dos parâmetros de reconhecimento facial para otimizar o desempenho do sistema.\n",
    "\n",
    "- **Múltiplos Rostos na Imagem**: Caso haja mais de um rosto na imagem, insira os rótulos referentes a esses rostos em uma lista para o método `insert`.\n",
    "\n",
    "Exemplo:\n",
    "\n",
    "```python\n",
    "fc.insert('img.jpg', ['Rosto1', 'Rosto2'])\n",
    "\n",
    "### Desafio de Projeto da DIO\n",
    "\n",
    "Este projeto foi realizado como parte do Desafio de Projeto da Formação Machine Learning Specialist, oferecida pela Digital Innovation One (DIO)."
   ]
  }
 ],
 "metadata": {
  "kernelspec": {
   "display_name": "vcomp",
   "language": "python",
   "name": "python3"
  },
  "language_info": {
   "codemirror_mode": {
    "name": "ipython",
    "version": 3
   },
   "file_extension": ".py",
   "mimetype": "text/x-python",
   "name": "python",
   "nbconvert_exporter": "python",
   "pygments_lexer": "ipython3",
   "version": "3.8.10"
  }
 },
 "nbformat": 4,
 "nbformat_minor": 2
}
